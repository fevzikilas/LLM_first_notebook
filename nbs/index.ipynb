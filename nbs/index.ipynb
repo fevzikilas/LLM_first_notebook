{
 "cells": [
  {
   "cell_type": "code",
   "execution_count": null,
   "metadata": {},
   "outputs": [],
   "source": [
    "#| hide\n",
    "from LLM_first_notebook.core import *"
   ]
  },
  {
   "cell_type": "markdown",
   "metadata": {
    "tags": []
   },
   "source": [
    "# Fine Tune LLAMA 2\n",
    "\n",
    "> first LLM LAB"
   ]
  },
  {
   "cell_type": "markdown",
   "metadata": {
    "tags": []
   },
   "source": [
    "### Step 1: Install All the Required Packages"
   ]
  },
  {
   "cell_type": "code",
   "execution_count": null,
   "metadata": {},
   "outputs": [],
   "source": [
    "!pip install -q accelerate==0.21.0 peft==0.4.0 bitsandbytes==0.40.2 transformers==4.31.0 trl"
   ]
  },
  {
   "cell_type": "code",
   "execution_count": 28,
   "metadata": {
    "collapsed": true,
    "jupyter": {
     "outputs_hidden": true
    },
    "tags": []
   },
   "outputs": [
    {
     "ename": "SyntaxError",
     "evalue": "invalid syntax (1718982618.py, line 2)",
     "output_type": "error",
     "traceback": [
      "\u001b[1;36m  Input \u001b[1;32mIn [28]\u001b[1;36m\u001b[0m\n\u001b[1;33m    pip install accelerate==0.21.0\u001b[0m\n\u001b[1;37m        ^\u001b[0m\n\u001b[1;31mSyntaxError\u001b[0m\u001b[1;31m:\u001b[0m invalid syntax\n"
     ]
    }
   ],
   "source": [
    "#| hide\n",
    "pip install accelerate==0.21.0"
   ]
  },
  {
   "cell_type": "code",
   "execution_count": 21,
   "metadata": {
    "collapsed": true,
    "jupyter": {
     "outputs_hidden": true
    },
    "tags": []
   },
   "outputs": [
    {
     "name": "stdout",
     "output_type": "stream",
     "text": [
      "Collecting peft==0.4.0\n",
      "  Downloading peft-0.4.0-py3-none-any.whl (72 kB)\n",
      "Requirement already satisfied: psutil in c:\\users\\fklas\\anaconda3\\lib\\site-packages (from peft==0.4.0) (5.8.0)\n",
      "Requirement already satisfied: transformers in c:\\users\\fklas\\anaconda3\\lib\\site-packages (from peft==0.4.0) (4.44.0)\n",
      "Requirement already satisfied: pyyaml in c:\\users\\fklas\\anaconda3\\lib\\site-packages (from peft==0.4.0) (6.0)\n",
      "Requirement already satisfied: numpy>=1.17 in c:\\users\\fklas\\anaconda3\\lib\\site-packages (from peft==0.4.0) (1.21.5)\n",
      "Requirement already satisfied: accelerate in c:\\users\\fklas\\anaconda3\\lib\\site-packages (from peft==0.4.0) (0.21.0)\n",
      "Requirement already satisfied: torch>=1.13.0 in c:\\users\\fklas\\anaconda3\\lib\\site-packages (from peft==0.4.0) (2.4.0)\n",
      "Requirement already satisfied: packaging>=20.0 in c:\\users\\fklas\\anaconda3\\lib\\site-packages (from peft==0.4.0) (21.3)\n",
      "Requirement already satisfied: safetensors in c:\\users\\fklas\\anaconda3\\lib\\site-packages (from peft==0.4.0) (0.4.4)\n",
      "Requirement already satisfied: pyparsing!=3.0.5,>=2.0.2 in c:\\users\\fklas\\anaconda3\\lib\\site-packages (from packaging>=20.0->peft==0.4.0) (3.0.4)\n",
      "Requirement already satisfied: filelock in c:\\users\\fklas\\anaconda3\\lib\\site-packages (from torch>=1.13.0->peft==0.4.0) (3.6.0)\n",
      "Requirement already satisfied: jinja2 in c:\\users\\fklas\\anaconda3\\lib\\site-packages (from torch>=1.13.0->peft==0.4.0) (2.11.3)\n",
      "Requirement already satisfied: fsspec in c:\\users\\fklas\\anaconda3\\lib\\site-packages (from torch>=1.13.0->peft==0.4.0) (2024.6.1)\n",
      "Requirement already satisfied: typing-extensions>=4.8.0 in c:\\users\\fklas\\anaconda3\\lib\\site-packages (from torch>=1.13.0->peft==0.4.0) (4.12.2)\n",
      "Requirement already satisfied: sympy in c:\\users\\fklas\\anaconda3\\lib\\site-packages (from torch>=1.13.0->peft==0.4.0) (1.10.1)\n",
      "Requirement already satisfied: networkx in c:\\users\\fklas\\anaconda3\\lib\\site-packages (from torch>=1.13.0->peft==0.4.0) (2.7.1)\n",
      "Requirement already satisfied: MarkupSafe>=0.23 in c:\\users\\fklas\\anaconda3\\lib\\site-packages (from jinja2->torch>=1.13.0->peft==0.4.0) (2.0.1)\n",
      "Requirement already satisfied: mpmath>=0.19 in c:\\users\\fklas\\anaconda3\\lib\\site-packages (from sympy->torch>=1.13.0->peft==0.4.0) (1.2.1)\n",
      "Requirement already satisfied: tokenizers<0.20,>=0.19 in c:\\users\\fklas\\anaconda3\\lib\\site-packages (from transformers->peft==0.4.0) (0.19.1)\n",
      "Requirement already satisfied: regex!=2019.12.17 in c:\\users\\fklas\\anaconda3\\lib\\site-packages (from transformers->peft==0.4.0) (2022.3.15)\n",
      "Requirement already satisfied: huggingface-hub<1.0,>=0.23.2 in c:\\users\\fklas\\anaconda3\\lib\\site-packages (from transformers->peft==0.4.0) (0.24.5)\n",
      "Requirement already satisfied: requests in c:\\users\\fklas\\anaconda3\\lib\\site-packages (from transformers->peft==0.4.0) (2.32.3)\n",
      "Requirement already satisfied: tqdm>=4.27 in c:\\users\\fklas\\anaconda3\\lib\\site-packages (from transformers->peft==0.4.0) (4.66.5)\n",
      "Requirement already satisfied: colorama in c:\\users\\fklas\\anaconda3\\lib\\site-packages (from tqdm>=4.27->transformers->peft==0.4.0) (0.4.4)\n",
      "Requirement already satisfied: charset-normalizer<4,>=2 in c:\\users\\fklas\\anaconda3\\lib\\site-packages (from requests->transformers->peft==0.4.0) (2.0.4)\n",
      "Requirement already satisfied: idna<4,>=2.5 in c:\\users\\fklas\\anaconda3\\lib\\site-packages (from requests->transformers->peft==0.4.0) (3.3)\n",
      "Requirement already satisfied: certifi>=2017.4.17 in c:\\users\\fklas\\anaconda3\\lib\\site-packages (from requests->transformers->peft==0.4.0) (2021.10.8)\n",
      "Requirement already satisfied: urllib3<3,>=1.21.1 in c:\\users\\fklas\\anaconda3\\lib\\site-packages (from requests->transformers->peft==0.4.0) (1.26.9)\n",
      "Installing collected packages: peft\n",
      "  Attempting uninstall: peft\n",
      "    Found existing installation: peft 0.12.0\n",
      "    Uninstalling peft-0.12.0:\n",
      "      Successfully uninstalled peft-0.12.0\n",
      "Successfully installed peft-0.4.0\n",
      "Note: you may need to restart the kernel to use updated packages.\n"
     ]
    }
   ],
   "source": [
    "#| hide\n",
    "pip install peft==0.4.0"
   ]
  },
  {
   "cell_type": "code",
   "execution_count": 22,
   "metadata": {
    "collapsed": true,
    "jupyter": {
     "outputs_hidden": true
    },
    "tags": []
   },
   "outputs": [
    {
     "name": "stdout",
     "output_type": "stream",
     "text": [
      "Collecting bitsandbytes==0.40.2\n",
      "  Downloading bitsandbytes-0.40.2-py3-none-any.whl (92.5 MB)\n",
      "Installing collected packages: bitsandbytes\n",
      "Successfully installed bitsandbytes-0.40.2\n",
      "Note: you may need to restart the kernel to use updated packages.\n"
     ]
    }
   ],
   "source": [
    "#| hide\n",
    "pip install bitsandbytes==0.40.2"
   ]
  },
  {
   "cell_type": "code",
   "execution_count": 23,
   "metadata": {
    "collapsed": true,
    "jupyter": {
     "outputs_hidden": true
    },
    "tags": []
   },
   "outputs": [
    {
     "name": "stdout",
     "output_type": "stream",
     "text": [
      "Collecting transformers==4.31.0\n",
      "  Downloading transformers-4.31.0-py3-none-any.whl (7.4 MB)\n",
      "Requirement already satisfied: safetensors>=0.3.1 in c:\\users\\fklas\\anaconda3\\lib\\site-packages (from transformers==4.31.0) (0.4.4)\n",
      "Requirement already satisfied: filelock in c:\\users\\fklas\\anaconda3\\lib\\site-packages (from transformers==4.31.0) (3.6.0)\n",
      "Requirement already satisfied: tqdm>=4.27 in c:\\users\\fklas\\anaconda3\\lib\\site-packages (from transformers==4.31.0) (4.66.5)\n",
      "Requirement already satisfied: regex!=2019.12.17 in c:\\users\\fklas\\anaconda3\\lib\\site-packages (from transformers==4.31.0) (2022.3.15)\n",
      "Requirement already satisfied: requests in c:\\users\\fklas\\anaconda3\\lib\\site-packages (from transformers==4.31.0) (2.32.3)\n",
      "Requirement already satisfied: pyyaml>=5.1 in c:\\users\\fklas\\anaconda3\\lib\\site-packages (from transformers==4.31.0) (6.0)\n",
      "Requirement already satisfied: numpy>=1.17 in c:\\users\\fklas\\anaconda3\\lib\\site-packages (from transformers==4.31.0) (1.21.5)\n",
      "Requirement already satisfied: huggingface-hub<1.0,>=0.14.1 in c:\\users\\fklas\\anaconda3\\lib\\site-packages (from transformers==4.31.0) (0.24.5)\n",
      "Collecting tokenizers!=0.11.3,<0.14,>=0.11.1\n",
      "  Downloading tokenizers-0.13.3-cp39-cp39-win_amd64.whl (3.5 MB)\n",
      "Requirement already satisfied: packaging>=20.0 in c:\\users\\fklas\\anaconda3\\lib\\site-packages (from transformers==4.31.0) (21.3)\n",
      "Requirement already satisfied: typing-extensions>=3.7.4.3 in c:\\users\\fklas\\anaconda3\\lib\\site-packages (from huggingface-hub<1.0,>=0.14.1->transformers==4.31.0) (4.12.2)\n",
      "Requirement already satisfied: fsspec>=2023.5.0 in c:\\users\\fklas\\anaconda3\\lib\\site-packages (from huggingface-hub<1.0,>=0.14.1->transformers==4.31.0) (2024.6.1)\n",
      "Requirement already satisfied: pyparsing!=3.0.5,>=2.0.2 in c:\\users\\fklas\\anaconda3\\lib\\site-packages (from packaging>=20.0->transformers==4.31.0) (3.0.4)\n",
      "Requirement already satisfied: colorama in c:\\users\\fklas\\anaconda3\\lib\\site-packages (from tqdm>=4.27->transformers==4.31.0) (0.4.4)\n",
      "Requirement already satisfied: urllib3<3,>=1.21.1 in c:\\users\\fklas\\anaconda3\\lib\\site-packages (from requests->transformers==4.31.0) (1.26.9)\n",
      "Requirement already satisfied: idna<4,>=2.5 in c:\\users\\fklas\\anaconda3\\lib\\site-packages (from requests->transformers==4.31.0) (3.3)\n",
      "Requirement already satisfied: certifi>=2017.4.17 in c:\\users\\fklas\\anaconda3\\lib\\site-packages (from requests->transformers==4.31.0) (2021.10.8)\n",
      "Requirement already satisfied: charset-normalizer<4,>=2 in c:\\users\\fklas\\anaconda3\\lib\\site-packages (from requests->transformers==4.31.0) (2.0.4)\n",
      "Installing collected packages: tokenizers, transformers\n",
      "  Attempting uninstall: tokenizers\n",
      "    Found existing installation: tokenizers 0.19.1\n",
      "    Uninstalling tokenizers-0.19.1:\n",
      "      Successfully uninstalled tokenizers-0.19.1\n",
      "Note: you may need to restart the kernel to use updated packages.\n"
     ]
    },
    {
     "name": "stderr",
     "output_type": "stream",
     "text": [
      "ERROR: Could not install packages due to an OSError: [WinError 5] Erişim engellendi: 'C:\\\\Users\\\\fklas\\\\anaconda3\\\\Lib\\\\site-packages\\\\~okenizers\\\\tokenizers.cp39-win_amd64.pyd'\n",
      "Consider using the `--user` option or check the permissions.\n",
      "\n"
     ]
    }
   ],
   "source": [
    "#| hide\n",
    "pip install transformers==4.31.0"
   ]
  },
  {
   "cell_type": "code",
   "execution_count": 24,
   "metadata": {
    "collapsed": true,
    "jupyter": {
     "outputs_hidden": true
    },
    "tags": []
   },
   "outputs": [
    {
     "name": "stdout",
     "output_type": "stream",
     "text": [
      "Collecting trl==0.4.7\n",
      "  Downloading trl-0.4.7-py3-none-any.whl (77 kB)\n",
      "Requirement already satisfied: torch>=1.4.0 in c:\\users\\fklas\\anaconda3\\lib\\site-packages (from trl==0.4.7) (2.4.0)\n",
      "Requirement already satisfied: numpy>=1.18.2 in c:\\users\\fklas\\anaconda3\\lib\\site-packages (from trl==0.4.7) (1.21.5)\n",
      "Requirement already satisfied: datasets in c:\\users\\fklas\\anaconda3\\lib\\site-packages (from trl==0.4.7) (2.21.0)\n",
      "Requirement already satisfied: accelerate in c:\\users\\fklas\\anaconda3\\lib\\site-packages (from trl==0.4.7) (0.21.0)\n",
      "Requirement already satisfied: transformers>=4.18.0 in c:\\users\\fklas\\anaconda3\\lib\\site-packages (from trl==0.4.7) (4.44.0)\n",
      "Requirement already satisfied: jinja2 in c:\\users\\fklas\\anaconda3\\lib\\site-packages (from torch>=1.4.0->trl==0.4.7) (2.11.3)\n",
      "Requirement already satisfied: fsspec in c:\\users\\fklas\\anaconda3\\lib\\site-packages (from torch>=1.4.0->trl==0.4.7) (2024.6.1)\n",
      "Requirement already satisfied: sympy in c:\\users\\fklas\\anaconda3\\lib\\site-packages (from torch>=1.4.0->trl==0.4.7) (1.10.1)\n",
      "Requirement already satisfied: typing-extensions>=4.8.0 in c:\\users\\fklas\\anaconda3\\lib\\site-packages (from torch>=1.4.0->trl==0.4.7) (4.12.2)\n",
      "Requirement already satisfied: filelock in c:\\users\\fklas\\anaconda3\\lib\\site-packages (from torch>=1.4.0->trl==0.4.7) (3.6.0)\n",
      "Requirement already satisfied: networkx in c:\\users\\fklas\\anaconda3\\lib\\site-packages (from torch>=1.4.0->trl==0.4.7) (2.7.1)\n",
      "Collecting tokenizers<0.20,>=0.19\n",
      "  Using cached tokenizers-0.19.1-cp39-none-win_amd64.whl (2.2 MB)Note: you may need to restart the kernel to use updated packages.\n",
      "Requirement already satisfied: packaging>=20.0 in c:\\users\\fklas\\anaconda3\\lib\\site-packages (from transformers>=4.18.0->trl==0.4.7) (21.3)\n",
      "Requirement already satisfied: regex!=2019.12.17 in c:\\users\\fklas\\anaconda3\\lib\\site-packages (from transformers>=4.18.0->trl==0.4.7) (2022.3.15)\n",
      "Requirement already satisfied: requests in c:\\users\\fklas\\anaconda3\\lib\\site-packages (from transformers>=4.18.0->trl==0.4.7) (2.32.3)\n",
      "\n",
      "Requirement already satisfied: tqdm>=4.27 in c:\\users\\fklas\\anaconda3\\lib\\site-packages (from transformers>=4.18.0->trl==0.4.7) (4.66.5)\n",
      "Requirement already satisfied: pyyaml>=5.1 in c:\\users\\fklas\\anaconda3\\lib\\site-packages (from transformers>=4.18.0->trl==0.4.7) (6.0)\n",
      "Requirement already satisfied: huggingface-hub<1.0,>=0.23.2 in c:\\users\\fklas\\anaconda3\\lib\\site-packages (from transformers>=4.18.0->trl==0.4.7) (0.24.5)\n",
      "Requirement already satisfied: safetensors>=0.4.1 in c:\\users\\fklas\\anaconda3\\lib\\site-packages (from transformers>=4.18.0->trl==0.4.7) (0.4.4)\n",
      "Requirement already satisfied: pyparsing!=3.0.5,>=2.0.2 in c:\\users\\fklas\\anaconda3\\lib\\site-packages (from packaging>=20.0->transformers>=4.18.0->trl==0.4.7) (3.0.4)\n",
      "Requirement already satisfied: colorama in c:\\users\\fklas\\anaconda3\\lib\\site-packages (from tqdm>=4.27->transformers>=4.18.0->trl==0.4.7) (0.4.4)\n",
      "Requirement already satisfied: psutil in c:\\users\\fklas\\anaconda3\\lib\\site-packages (from accelerate->trl==0.4.7) (5.8.0)\n",
      "Requirement already satisfied: dill<0.3.9,>=0.3.0 in c:\\users\\fklas\\anaconda3\\lib\\site-packages (from datasets->trl==0.4.7) (0.3.8)\n",
      "Requirement already satisfied: aiohttp in c:\\users\\fklas\\anaconda3\\lib\\site-packages (from datasets->trl==0.4.7) (3.8.1)\n",
      "Requirement already satisfied: pyarrow>=15.0.0 in c:\\users\\fklas\\anaconda3\\lib\\site-packages (from datasets->trl==0.4.7) (17.0.0)\n",
      "Requirement already satisfied: multiprocess in c:\\users\\fklas\\anaconda3\\lib\\site-packages (from datasets->trl==0.4.7) (0.70.16)\n",
      "Requirement already satisfied: xxhash in c:\\users\\fklas\\anaconda3\\lib\\site-packages (from datasets->trl==0.4.7) (3.5.0)\n",
      "Requirement already satisfied: pandas in c:\\users\\fklas\\anaconda3\\lib\\site-packages (from datasets->trl==0.4.7) (1.4.2)\n",
      "Requirement already satisfied: frozenlist>=1.1.1 in c:\\users\\fklas\\anaconda3\\lib\\site-packages (from aiohttp->datasets->trl==0.4.7) (1.2.0)\n",
      "Requirement already satisfied: charset-normalizer<3.0,>=2.0 in c:\\users\\fklas\\anaconda3\\lib\\site-packages (from aiohttp->datasets->trl==0.4.7) (2.0.4)\n",
      "Requirement already satisfied: async-timeout<5.0,>=4.0.0a3 in c:\\users\\fklas\\anaconda3\\lib\\site-packages (from aiohttp->datasets->trl==0.4.7) (4.0.1)\n",
      "Requirement already satisfied: aiosignal>=1.1.2 in c:\\users\\fklas\\anaconda3\\lib\\site-packages (from aiohttp->datasets->trl==0.4.7) (1.2.0)\n",
      "Requirement already satisfied: attrs>=17.3.0 in c:\\users\\fklas\\anaconda3\\lib\\site-packages (from aiohttp->datasets->trl==0.4.7) (21.4.0)\n",
      "Requirement already satisfied: multidict<7.0,>=4.5 in c:\\users\\fklas\\anaconda3\\lib\\site-packages (from aiohttp->datasets->trl==0.4.7) (5.1.0)\n",
      "Requirement already satisfied: yarl<2.0,>=1.0 in c:\\users\\fklas\\anaconda3\\lib\\site-packages (from aiohttp->datasets->trl==0.4.7) (1.6.3)\n",
      "Requirement already satisfied: urllib3<3,>=1.21.1 in c:\\users\\fklas\\anaconda3\\lib\\site-packages (from requests->transformers>=4.18.0->trl==0.4.7) (1.26.9)\n",
      "Requirement already satisfied: idna<4,>=2.5 in c:\\users\\fklas\\anaconda3\\lib\\site-packages (from requests->transformers>=4.18.0->trl==0.4.7) (3.3)\n",
      "Requirement already satisfied: certifi>=2017.4.17 in c:\\users\\fklas\\anaconda3\\lib\\site-packages (from requests->transformers>=4.18.0->trl==0.4.7) (2021.10.8)\n",
      "Requirement already satisfied: MarkupSafe>=0.23 in c:\\users\\fklas\\anaconda3\\lib\\site-packages (from jinja2->torch>=1.4.0->trl==0.4.7) (2.0.1)\n",
      "Requirement already satisfied: pytz>=2020.1 in c:\\users\\fklas\\anaconda3\\lib\\site-packages (from pandas->datasets->trl==0.4.7) (2021.3)\n",
      "Requirement already satisfied: python-dateutil>=2.8.1 in c:\\users\\fklas\\anaconda3\\lib\\site-packages (from pandas->datasets->trl==0.4.7) (2.8.2)\n",
      "Requirement already satisfied: six>=1.5 in c:\\users\\fklas\\anaconda3\\lib\\site-packages (from python-dateutil>=2.8.1->pandas->datasets->trl==0.4.7) (1.16.0)\n",
      "Requirement already satisfied: mpmath>=0.19 in c:\\users\\fklas\\anaconda3\\lib\\site-packages (from sympy->torch>=1.4.0->trl==0.4.7) (1.2.1)\n",
      "Installing collected packages: tokenizers, trl\n",
      "  Attempting uninstall: tokenizers\n",
      "    Found existing installation: tokenizers 0.13.3\n",
      "    Uninstalling tokenizers-0.13.3:\n",
      "      Successfully uninstalled tokenizers-0.13.3\n",
      "Successfully installed tokenizers-0.19.1 trl-0.4.7\n"
     ]
    }
   ],
   "source": [
    "#| hide\n",
    "pip install trl==0.4.7"
   ]
  },
  {
   "cell_type": "code",
   "execution_count": 26,
   "metadata": {
    "collapsed": true,
    "jupyter": {
     "outputs_hidden": true
    },
    "tags": []
   },
   "outputs": [
    {
     "name": "stdout",
     "output_type": "stream",
     "text": [
      "Requirement already satisfied: trl in c:\\users\\fklas\\anaconda3\\lib\\site-packages (0.4.7)\n",
      "Collecting trl\n",
      "  Downloading trl-0.9.6-py3-none-any.whl (245 kB)\n",
      "Requirement already satisfied: torch>=1.4.0 in c:\\users\\fklas\\anaconda3\\lib\\site-packages (from trl) (2.4.0)\n",
      "Requirement already satisfied: datasets in c:\\users\\fklas\\anaconda3\\lib\\site-packages (from trl) (2.21.0)\n",
      "Requirement already satisfied: transformers>=4.31.0 in c:\\users\\fklas\\anaconda3\\lib\\site-packages (from trl) (4.44.0)\n",
      "Requirement already satisfied: accelerate in c:\\users\\fklas\\anaconda3\\lib\\site-packages (from trl) (0.21.0)\n",
      "Collecting tyro>=0.5.11\n",
      "  Downloading tyro-0.8.8-py3-none-any.whl (104 kB)\n",
      "Requirement already satisfied: numpy<2.0.0,>=1.18.2 in c:\\users\\fklas\\anaconda3\\lib\\site-packages (from trl) (1.21.5)\n",
      "Requirement already satisfied: fsspec in c:\\users\\fklas\\anaconda3\\lib\\site-packages (from torch>=1.4.0->trl) (2024.6.1)\n",
      "Requirement already satisfied: jinja2 in c:\\users\\fklas\\anaconda3\\lib\\site-packages (from torch>=1.4.0->trl) (2.11.3)\n",
      "Requirement already satisfied: networkx in c:\\users\\fklas\\anaconda3\\lib\\site-packages (from torch>=1.4.0->trl) (2.7.1)\n",
      "Requirement already satisfied: typing-extensions>=4.8.0 in c:\\users\\fklas\\anaconda3\\lib\\site-packages (from torch>=1.4.0->trl) (4.12.2)\n",
      "Requirement already satisfied: filelock in c:\\users\\fklas\\anaconda3\\lib\\site-packages (from torch>=1.4.0->trl) (3.6.0)\n",
      "Requirement already satisfied: sympy in c:\\users\\fklas\\anaconda3\\lib\\site-packages (from torch>=1.4.0->trl) (1.10.1)\n",
      "Requirement already satisfied: tqdm>=4.27 in c:\\users\\fklas\\anaconda3\\lib\\site-packages (from transformers>=4.31.0->trl) (4.66.5)\n",
      "Requirement already satisfied: regex!=2019.12.17 in c:\\users\\fklas\\anaconda3\\lib\\site-packages (from transformers>=4.31.0->trl) (2022.3.15)\n",
      "Requirement already satisfied: tokenizers<0.20,>=0.19 in c:\\users\\fklas\\anaconda3\\lib\\site-packages (from transformers>=4.31.0->trl) (0.19.1)\n",
      "Requirement already satisfied: safetensors>=0.4.1 in c:\\users\\fklas\\anaconda3\\lib\\site-packages (from transformers>=4.31.0->trl) (0.4.4)\n",
      "Requirement already satisfied: pyyaml>=5.1 in c:\\users\\fklas\\anaconda3\\lib\\site-packages (from transformers>=4.31.0->trl) (6.0)\n",
      "Requirement already satisfied: huggingface-hub<1.0,>=0.23.2 in c:\\users\\fklas\\anaconda3\\lib\\site-packages (from transformers>=4.31.0->trl) (0.24.5)\n",
      "Requirement already satisfied: requests in c:\\users\\fklas\\anaconda3\\lib\\site-packages (from transformers>=4.31.0->trl) (2.32.3)\n",
      "Requirement already satisfied: packaging>=20.0 in c:\\users\\fklas\\anaconda3\\lib\\site-packages (from transformers>=4.31.0->trl) (21.3)\n",
      "Requirement already satisfied: pyparsing!=3.0.5,>=2.0.2 in c:\\users\\fklas\\anaconda3\\lib\\site-packages (from packaging>=20.0->transformers>=4.31.0->trl) (3.0.4)\n",
      "Requirement already satisfied: colorama in c:\\users\\fklas\\anaconda3\\lib\\site-packages (from tqdm>=4.27->transformers>=4.31.0->trl) (0.4.4)\n",
      "Collecting docstring-parser>=0.16\n",
      "  Downloading docstring_parser-0.16-py3-none-any.whl (36 kB)\n",
      "Collecting rich>=11.1.0\n",
      "  Downloading rich-13.7.1-py3-none-any.whl (240 kB)\n",
      "Collecting shtab>=1.5.6\n",
      "  Downloading shtab-1.7.1-py3-none-any.whl (14 kB)\n",
      "Collecting eval-type-backport>=0.1.3\n",
      "  Downloading eval_type_backport-0.2.0-py3-none-any.whl (5.9 kB)\n",
      "Collecting pygments<3.0.0,>=2.13.0\n",
      "  Downloading pygments-2.18.0-py3-none-any.whl (1.2 MB)\n",
      "Collecting markdown-it-py>=2.2.0\n",
      "  Using cached markdown_it_py-3.0.0-py3-none-any.whl (87 kB)\n",
      "Collecting mdurl~=0.1\n",
      "  Using cached mdurl-0.1.2-py3-none-any.whl (10.0 kB)\n",
      "Requirement already satisfied: psutil in c:\\users\\fklas\\anaconda3\\lib\\site-packages (from accelerate->trl) (5.8.0)\n",
      "Requirement already satisfied: multiprocess in c:\\users\\fklas\\anaconda3\\lib\\site-packages (from datasets->trl) (0.70.16)\n",
      "Requirement already satisfied: dill<0.3.9,>=0.3.0 in c:\\users\\fklas\\anaconda3\\lib\\site-packages (from datasets->trl) (0.3.8)\n",
      "Requirement already satisfied: aiohttp in c:\\users\\fklas\\anaconda3\\lib\\site-packages (from datasets->trl) (3.8.1)\n",
      "Requirement already satisfied: xxhash in c:\\users\\fklas\\anaconda3\\lib\\site-packages (from datasets->trl) (3.5.0)\n",
      "Requirement already satisfied: pandas in c:\\users\\fklas\\anaconda3\\lib\\site-packages (from datasets->trl) (1.4.2)\n",
      "Requirement already satisfied: pyarrow>=15.0.0 in c:\\users\\fklas\\anaconda3\\lib\\site-packages (from datasets->trl) (17.0.0)\n",
      "Requirement already satisfied: multidict<7.0,>=4.5 in c:\\users\\fklas\\anaconda3\\lib\\site-packages (from aiohttp->datasets->trl) (5.1.0)\n",
      "Requirement already satisfied: async-timeout<5.0,>=4.0.0a3 in c:\\users\\fklas\\anaconda3\\lib\\site-packages (from aiohttp->datasets->trl) (4.0.1)\n",
      "Requirement already satisfied: attrs>=17.3.0 in c:\\users\\fklas\\anaconda3\\lib\\site-packages (from aiohttp->datasets->trl) (21.4.0)\n",
      "Requirement already satisfied: frozenlist>=1.1.1 in c:\\users\\fklas\\anaconda3\\lib\\site-packages (from aiohttp->datasets->trl) (1.2.0)\n",
      "Requirement already satisfied: yarl<2.0,>=1.0 in c:\\users\\fklas\\anaconda3\\lib\\site-packages (from aiohttp->datasets->trl) (1.6.3)\n",
      "Requirement already satisfied: charset-normalizer<3.0,>=2.0 in c:\\users\\fklas\\anaconda3\\lib\\site-packages (from aiohttp->datasets->trl) (2.0.4)\n",
      "Requirement already satisfied: aiosignal>=1.1.2 in c:\\users\\fklas\\anaconda3\\lib\\site-packages (from aiohttp->datasets->trl) (1.2.0)\n",
      "Requirement already satisfied: certifi>=2017.4.17 in c:\\users\\fklas\\anaconda3\\lib\\site-packages (from requests->transformers>=4.31.0->trl) (2021.10.8)\n",
      "Requirement already satisfied: urllib3<3,>=1.21.1 in c:\\users\\fklas\\anaconda3\\lib\\site-packages (from requests->transformers>=4.31.0->trl) (1.26.9)\n",
      "Requirement already satisfied: idna<4,>=2.5 in c:\\users\\fklas\\anaconda3\\lib\\site-packages (from requests->transformers>=4.31.0->trl) (3.3)\n",
      "Requirement already satisfied: MarkupSafe>=0.23 in c:\\users\\fklas\\anaconda3\\lib\\site-packages (from jinja2->torch>=1.4.0->trl) (2.0.1)\n",
      "Requirement already satisfied: python-dateutil>=2.8.1 in c:\\users\\fklas\\anaconda3\\lib\\site-packages (from pandas->datasets->trl) (2.8.2)\n",
      "Requirement already satisfied: pytz>=2020.1 in c:\\users\\fklas\\anaconda3\\lib\\site-packages (from pandas->datasets->trl) (2021.3)\n",
      "Requirement already satisfied: six>=1.5 in c:\\users\\fklas\\anaconda3\\lib\\site-packages (from python-dateutil>=2.8.1->pandas->datasets->trl) (1.16.0)\n",
      "Requirement already satisfied: mpmath>=0.19 in c:\\users\\fklas\\anaconda3\\lib\\site-packages (from sympy->torch>=1.4.0->trl) (1.2.1)\n",
      "Installing collected packages: mdurl, pygments, markdown-it-py, shtab, rich, eval-type-backport, docstring-parser, tyro, trl\n",
      "  Attempting uninstall: pygments\n",
      "    Found existing installation: Pygments 2.11.2\n",
      "    Uninstalling Pygments-2.11.2:\n",
      "      Successfully uninstalled Pygments-2.11.2\n",
      "  Attempting uninstall: trl\n",
      "Note: you may need to restart the kernel to use updated packages.    Found existing installation: trl 0.4.7\n",
      "    Uninstalling trl-0.4.7:\n"
     ]
    },
    {
     "name": "stderr",
     "output_type": "stream",
     "text": [
      "ERROR: pip's dependency resolver does not currently take into account all the packages that are installed. This behaviour is the source of the following dependency conflicts.\n",
      "spyder 5.1.5 requires pyqt5<5.13, which is not installed.\n",
      "spyder 5.1.5 requires pyqtwebengine<5.13, which is not installed.\n",
      "jupyter-server 1.13.5 requires pywinpty<2; os_name == \"nt\", but you have pywinpty 2.0.2 which is incompatible.\n"
     ]
    },
    {
     "name": "stdout",
     "output_type": "stream",
     "text": [
      "\n",
      "      Successfully uninstalled trl-0.4.7\n",
      "Successfully installed docstring-parser-0.16 eval-type-backport-0.2.0 markdown-it-py-3.0.0 mdurl-0.1.2 pygments-2.18.0 rich-13.7.1 shtab-1.7.1 trl-0.9.6 tyro-0.8.8\n"
     ]
    }
   ],
   "source": [
    "#| hide\n",
    "pip install --upgrade trl"
   ]
  },
  {
   "cell_type": "markdown",
   "metadata": {
    "tags": []
   },
   "source": [
    "### Step 2: Import All the Required Libraries"
   ]
  },
  {
   "cell_type": "code",
   "execution_count": 27,
   "metadata": {},
   "outputs": [],
   "source": [
    "import os\n",
    "import torch\n",
    "from datasets import load_dataset\n",
    "from transformers import (\n",
    "    AutoModelForCausalLM,\n",
    "    AutoTokenizer,\n",
    "    BitsAndBytesConfig,\n",
    "    HfArgumentParser,\n",
    "    TrainingArguments,\n",
    "    pipeline,\n",
    "    logging,\n",
    ")\n",
    "from peft import LoraConfig, PeftModel\n",
    "from trl import SFTTrainer"
   ]
  },
  {
   "cell_type": "markdown",
   "metadata": {
    "tags": []
   },
   "source": [
    "### Step 3: Load & Train model"
   ]
  },
  {
   "cell_type": "markdown",
   "metadata": {},
   "source": [
    "Llma2 modelini fine tune edebilmek için belli formatta datasetine ihtiyacımız var. Ve format resimde ki gibidir.\n",
    "![image.png](data:image/png;base64,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)"
   ]
  },
  {
   "cell_type": "markdown",
   "metadata": {},
   "source": [
    "Bu Promtta veri setine sahipsek istedeiğimiz şekilde modeli fine tune edebiliriz.\n",
    "\n",
    "Şimdi sıradaki adım uygun bir veri seti bulup o veri setini nasil bu formata getirebiliriz onu yapacaz.\n",
    "\n",
    "Bulduğum uygun bir Dataset: https://huggingface.co/datasets/timdettmers/openassistant-guanaco\n",
    "\n",
    "> Reformat Dataset following the Llama 2 template with 1k sample: https://huggingface.co/datasets/mlabonne/guanaco-llama2-1k\n",
    "\n",
    "> Complete Reformat Dataset following the Llama 2 template: https://huggingface.co/datasets/mlabonne/guanaco-llama2\n",
    "\n",
    "To know how this dataset was created, you can check this notebook.\n",
    "https://colab.research.google.com/drive/1Ad7a9zMmkxuXTOh1Z7-rNSICA4dybpM2?usp=sharing"
   ]
  },
  {
   "cell_type": "code",
   "execution_count": 29,
   "metadata": {},
   "outputs": [],
   "source": [
    "# The model that you want to train from the Hugging Face hub\n",
    "model_name = \"NousResearch/Llama-2-7b-chat-hf\"\n",
    "\n",
    "# The instruction dataset to use\n",
    "dataset_name = \"mlabonne/guanaco-llama2-1k\"\n",
    "\n",
    "# Fine-tuned model name\n",
    "new_model = \"Llama-2-7b-chat-finetune\"\n",
    "\n",
    "################################################################################\n",
    "# QLoRA parameters\n",
    "################################################################################\n",
    "\n",
    "# LoRA attention dimension KIND OF HYPERPARAMETER\n",
    "lora_r = 64\n",
    "\n",
    "# Alpha parameter for LoRA scaling\n",
    "lora_alpha = 16\n",
    "\n",
    "# Dropout probability for LoRA layers\n",
    "lora_dropout = 0.1\n",
    "\n",
    "################################################################################\n",
    "# bitsandbytes parameters\n",
    "################################################################################\n",
    "\n",
    "# Activate 4-bit precision base model loading\n",
    "use_4bit = True\n",
    "\n",
    "# Compute dtype for 4-bit base models\n",
    "bnb_4bit_compute_dtype = \"float16\"\n",
    "\n",
    "# Quantization type (fp4 or nf4)\n",
    "bnb_4bit_quant_type = \"nf4\"\n",
    "\n",
    "# Activate nested quantization for 4-bit base models (double quantization)\n",
    "use_nested_quant = False\n",
    "\n",
    "################################################################################\n",
    "# TrainingArguments parameters\n",
    "################################################################################\n",
    "\n",
    "# Output directory where the model predictions and checkpoints will be stored\n",
    "output_dir = \"./results\"\n",
    "\n",
    "# Number of training epochs\n",
    "num_train_epochs = 1\n",
    "\n",
    "# Enable fp16/bf16 training (set bf16 to True with an A100)\n",
    "fp16 = False\n",
    "bf16 = False\n",
    "\n",
    "# Batch size per GPU for training\n",
    "per_device_train_batch_size = 4\n",
    "\n",
    "# Batch size per GPU for evaluation\n",
    "per_device_eval_batch_size = 4\n",
    "\n",
    "# Number of update steps to accumulate the gradients for\n",
    "gradient_accumulation_steps = 1\n",
    "\n",
    "# Enable gradient checkpointing\n",
    "gradient_checkpointing = True\n",
    "\n",
    "# Maximum gradient normal (gradient clipping)\n",
    "max_grad_norm = 0.3\n",
    "\n",
    "# Initial learning rate (AdamW optimizer)\n",
    "learning_rate = 2e-4\n",
    "\n",
    "# Weight decay to apply to all layers except bias/LayerNorm weights\n",
    "weight_decay = 0.001\n",
    "\n",
    "# Optimizer to use\n",
    "optim = \"paged_adamw_32bit\"\n",
    "\n",
    "# Learning rate schedule\n",
    "lr_scheduler_type = \"cosine\"\n",
    "\n",
    "# Number of training steps (overrides num_train_epochs)\n",
    "max_steps = -1\n",
    "\n",
    "# Ratio of steps for a linear warmup (from 0 to learning rate)\n",
    "warmup_ratio = 0.03\n",
    "\n",
    "# Group sequences into batches with same length\n",
    "# Saves memory and speeds up training considerably\n",
    "group_by_length = True\n",
    "\n",
    "# Save checkpoint every X updates steps\n",
    "save_steps = 0\n",
    "\n",
    "# Log every X updates steps\n",
    "logging_steps = 25\n",
    "\n",
    "################################################################################\n",
    "# SFT parameters SUPERVISED TUNING\n",
    "################################################################################\n",
    "\n",
    "# Maximum sequence length to use\n",
    "max_seq_length = None\n",
    "\n",
    "# Pack multiple short examples in the same input sequence to increase efficiency\n",
    "packing = False\n",
    "\n",
    "# Load the entire model on the GPU 0\n",
    "device_map = {\"\": 0}\n"
   ]
  },
  {
   "cell_type": "code",
   "execution_count": 31,
   "metadata": {},
   "outputs": [
    {
     "ename": "AssertionError",
     "evalue": "Torch not compiled with CUDA enabled",
     "output_type": "error",
     "traceback": [
      "\u001b[1;31m---------------------------------------------------------------------------\u001b[0m",
      "\u001b[1;31mAssertionError\u001b[0m                            Traceback (most recent call last)",
      "Input \u001b[1;32mIn [31]\u001b[0m, in \u001b[0;36m<cell line: 15>\u001b[1;34m()\u001b[0m\n\u001b[0;32m     14\u001b[0m \u001b[38;5;66;03m# Check GPU compatibility with bfloat16\u001b[39;00m\n\u001b[0;32m     15\u001b[0m \u001b[38;5;28;01mif\u001b[39;00m compute_dtype \u001b[38;5;241m==\u001b[39m torch\u001b[38;5;241m.\u001b[39mfloat16 \u001b[38;5;129;01mand\u001b[39;00m use_4bit:\n\u001b[1;32m---> 16\u001b[0m     major, _ \u001b[38;5;241m=\u001b[39m \u001b[43mtorch\u001b[49m\u001b[38;5;241;43m.\u001b[39;49m\u001b[43mcuda\u001b[49m\u001b[38;5;241;43m.\u001b[39;49m\u001b[43mget_device_capability\u001b[49m\u001b[43m(\u001b[49m\u001b[43m)\u001b[49m\n\u001b[0;32m     17\u001b[0m     \u001b[38;5;28;01mif\u001b[39;00m major \u001b[38;5;241m>\u001b[39m\u001b[38;5;241m=\u001b[39m \u001b[38;5;241m8\u001b[39m:\n\u001b[0;32m     18\u001b[0m         \u001b[38;5;28mprint\u001b[39m(\u001b[38;5;124m\"\u001b[39m\u001b[38;5;124m=\u001b[39m\u001b[38;5;124m\"\u001b[39m \u001b[38;5;241m*\u001b[39m \u001b[38;5;241m80\u001b[39m)\n",
      "File \u001b[1;32m~\\anaconda3\\lib\\site-packages\\torch\\cuda\\__init__.py:451\u001b[0m, in \u001b[0;36mget_device_capability\u001b[1;34m(device)\u001b[0m\n\u001b[0;32m    438\u001b[0m \u001b[38;5;28;01mdef\u001b[39;00m \u001b[38;5;21mget_device_capability\u001b[39m(device: Optional[_device_t] \u001b[38;5;241m=\u001b[39m \u001b[38;5;28;01mNone\u001b[39;00m) \u001b[38;5;241m-\u001b[39m\u001b[38;5;241m>\u001b[39m Tuple[\u001b[38;5;28mint\u001b[39m, \u001b[38;5;28mint\u001b[39m]:\n\u001b[0;32m    439\u001b[0m     \u001b[38;5;124mr\u001b[39m\u001b[38;5;124;03m\"\"\"Get the cuda capability of a device.\u001b[39;00m\n\u001b[0;32m    440\u001b[0m \n\u001b[0;32m    441\u001b[0m \u001b[38;5;124;03m    Args:\u001b[39;00m\n\u001b[1;32m   (...)\u001b[0m\n\u001b[0;32m    449\u001b[0m \u001b[38;5;124;03m        tuple(int, int): the major and minor cuda capability of the device\u001b[39;00m\n\u001b[0;32m    450\u001b[0m \u001b[38;5;124;03m    \"\"\"\u001b[39;00m\n\u001b[1;32m--> 451\u001b[0m     prop \u001b[38;5;241m=\u001b[39m \u001b[43mget_device_properties\u001b[49m\u001b[43m(\u001b[49m\u001b[43mdevice\u001b[49m\u001b[43m)\u001b[49m\n\u001b[0;32m    452\u001b[0m     \u001b[38;5;28;01mreturn\u001b[39;00m prop\u001b[38;5;241m.\u001b[39mmajor, prop\u001b[38;5;241m.\u001b[39mminor\n",
      "File \u001b[1;32m~\\anaconda3\\lib\\site-packages\\torch\\cuda\\__init__.py:465\u001b[0m, in \u001b[0;36mget_device_properties\u001b[1;34m(device)\u001b[0m\n\u001b[0;32m    455\u001b[0m \u001b[38;5;28;01mdef\u001b[39;00m \u001b[38;5;21mget_device_properties\u001b[39m(device: _device_t) \u001b[38;5;241m-\u001b[39m\u001b[38;5;241m>\u001b[39m _CudaDeviceProperties:\n\u001b[0;32m    456\u001b[0m     \u001b[38;5;124mr\u001b[39m\u001b[38;5;124;03m\"\"\"Get the properties of a device.\u001b[39;00m\n\u001b[0;32m    457\u001b[0m \n\u001b[0;32m    458\u001b[0m \u001b[38;5;124;03m    Args:\u001b[39;00m\n\u001b[1;32m   (...)\u001b[0m\n\u001b[0;32m    463\u001b[0m \u001b[38;5;124;03m        _CudaDeviceProperties: the properties of the device\u001b[39;00m\n\u001b[0;32m    464\u001b[0m \u001b[38;5;124;03m    \"\"\"\u001b[39;00m\n\u001b[1;32m--> 465\u001b[0m     \u001b[43m_lazy_init\u001b[49m\u001b[43m(\u001b[49m\u001b[43m)\u001b[49m  \u001b[38;5;66;03m# will define _get_device_properties\u001b[39;00m\n\u001b[0;32m    466\u001b[0m     device \u001b[38;5;241m=\u001b[39m _get_device_index(device, optional\u001b[38;5;241m=\u001b[39m\u001b[38;5;28;01mTrue\u001b[39;00m)\n\u001b[0;32m    467\u001b[0m     \u001b[38;5;28;01mif\u001b[39;00m device \u001b[38;5;241m<\u001b[39m \u001b[38;5;241m0\u001b[39m \u001b[38;5;129;01mor\u001b[39;00m device \u001b[38;5;241m>\u001b[39m\u001b[38;5;241m=\u001b[39m device_count():\n",
      "File \u001b[1;32m~\\anaconda3\\lib\\site-packages\\torch\\cuda\\__init__.py:305\u001b[0m, in \u001b[0;36m_lazy_init\u001b[1;34m()\u001b[0m\n\u001b[0;32m    300\u001b[0m     \u001b[38;5;28;01mraise\u001b[39;00m \u001b[38;5;167;01mRuntimeError\u001b[39;00m(\n\u001b[0;32m    301\u001b[0m         \u001b[38;5;124m\"\u001b[39m\u001b[38;5;124mCannot re-initialize CUDA in forked subprocess. To use CUDA with \u001b[39m\u001b[38;5;124m\"\u001b[39m\n\u001b[0;32m    302\u001b[0m         \u001b[38;5;124m\"\u001b[39m\u001b[38;5;124mmultiprocessing, you must use the \u001b[39m\u001b[38;5;124m'\u001b[39m\u001b[38;5;124mspawn\u001b[39m\u001b[38;5;124m'\u001b[39m\u001b[38;5;124m start method\u001b[39m\u001b[38;5;124m\"\u001b[39m\n\u001b[0;32m    303\u001b[0m     )\n\u001b[0;32m    304\u001b[0m \u001b[38;5;28;01mif\u001b[39;00m \u001b[38;5;129;01mnot\u001b[39;00m \u001b[38;5;28mhasattr\u001b[39m(torch\u001b[38;5;241m.\u001b[39m_C, \u001b[38;5;124m\"\u001b[39m\u001b[38;5;124m_cuda_getDeviceCount\u001b[39m\u001b[38;5;124m\"\u001b[39m):\n\u001b[1;32m--> 305\u001b[0m     \u001b[38;5;28;01mraise\u001b[39;00m \u001b[38;5;167;01mAssertionError\u001b[39;00m(\u001b[38;5;124m\"\u001b[39m\u001b[38;5;124mTorch not compiled with CUDA enabled\u001b[39m\u001b[38;5;124m\"\u001b[39m)\n\u001b[0;32m    306\u001b[0m \u001b[38;5;28;01mif\u001b[39;00m _cudart \u001b[38;5;129;01mis\u001b[39;00m \u001b[38;5;28;01mNone\u001b[39;00m:\n\u001b[0;32m    307\u001b[0m     \u001b[38;5;28;01mraise\u001b[39;00m \u001b[38;5;167;01mAssertionError\u001b[39;00m(\n\u001b[0;32m    308\u001b[0m         \u001b[38;5;124m\"\u001b[39m\u001b[38;5;124mlibcudart functions unavailable. It looks like you have a broken build?\u001b[39m\u001b[38;5;124m\"\u001b[39m\n\u001b[0;32m    309\u001b[0m     )\n",
      "\u001b[1;31mAssertionError\u001b[0m: Torch not compiled with CUDA enabled"
     ]
    }
   ],
   "source": [
    "# Load dataset (you can process it here)\n",
    "dataset = load_dataset(dataset_name, split=\"train\")\n",
    "\n",
    "# Load tokenizer and model with QLoRA configuration\n",
    "compute_dtype = getattr(torch, bnb_4bit_compute_dtype)\n",
    "\n",
    "bnb_config = BitsAndBytesConfig(\n",
    "    load_in_4bit=use_4bit,\n",
    "    bnb_4bit_quant_type=bnb_4bit_quant_type,\n",
    "    bnb_4bit_compute_dtype=compute_dtype,\n",
    "    bnb_4bit_use_double_quant=use_nested_quant,\n",
    ")\n",
    "\n",
    "# Check GPU compatibility with bfloat16\n",
    "if compute_dtype == torch.float16 and use_4bit:\n",
    "    major, _ = torch.cuda.get_device_capability()\n",
    "    if major >= 8:\n",
    "        print(\"=\" * 80)\n",
    "        print(\"Your GPU supports bfloat16: accelerate training with bf16=True\")\n",
    "        print(\"=\" * 80)\n",
    "\n",
    "# Load base model\n",
    "model = AutoModelForCausalLM.from_pretrained(\n",
    "    model_name,\n",
    "    quantization_config=bnb_config,\n",
    "    device_map=device_map\n",
    ")\n",
    "model.config.use_cache = False\n",
    "model.config.pretraining_tp = 1\n",
    "\n",
    "# Load LLaMA tokenizer\n",
    "tokenizer = AutoTokenizer.from_pretrained(model_name, trust_remote_code=True)\n",
    "tokenizer.pad_token = tokenizer.eos_token\n",
    "tokenizer.padding_side = \"right\" # Fix weird overflow issue with fp16 training\n",
    "\n",
    "# Load LoRA configuration\n",
    "peft_config = LoraConfig(\n",
    "    lora_alpha=lora_alpha,\n",
    "    lora_dropout=lora_dropout,\n",
    "    r=lora_r,\n",
    "    bias=\"none\",\n",
    "    task_type=\"CAUSAL_LM\",\n",
    ")\n",
    "\n",
    "# Set training parameters\n",
    "training_arguments = TrainingArguments(\n",
    "    output_dir=output_dir,\n",
    "    num_train_epochs=num_train_epochs,\n",
    "    per_device_train_batch_size=per_device_train_batch_size,\n",
    "    gradient_accumulation_steps=gradient_accumulation_steps,\n",
    "    optim=optim,\n",
    "    save_steps=save_steps,\n",
    "    logging_steps=logging_steps,\n",
    "    learning_rate=learning_rate,\n",
    "    weight_decay=weight_decay,\n",
    "    fp16=fp16,\n",
    "    bf16=bf16,\n",
    "    max_grad_norm=max_grad_norm,\n",
    "    max_steps=max_steps,\n",
    "    warmup_ratio=warmup_ratio,\n",
    "    group_by_length=group_by_length,\n",
    "    lr_scheduler_type=lr_scheduler_type,\n",
    "    report_to=\"tensorboard\"\n",
    ")\n",
    "\n",
    "# Set supervised fine-tuning parameters\n",
    "trainer = SFTTrainer(\n",
    "    model=model,\n",
    "    train_dataset=dataset,\n",
    "    peft_config=peft_config,\n",
    "    dataset_text_field=\"text\",\n",
    "    max_seq_length=max_seq_length,\n",
    "    tokenizer=tokenizer,\n",
    "    args=training_arguments,\n",
    "    packing=packing,\n",
    ")\n",
    "\n",
    "# Train model\n",
    "trainer.train()"
   ]
  },
  {
   "cell_type": "markdown",
   "metadata": {
    "tags": []
   },
   "source": [
    "### Step 4: Load everything and start the fine-tuning process"
   ]
  },
  {
   "cell_type": "code",
   "execution_count": 6,
   "metadata": {
    "collapsed": true,
    "jupyter": {
     "outputs_hidden": true
    },
    "tags": []
   },
   "outputs": [
    {
     "name": "stdout",
     "output_type": "stream",
     "text": [
      "Looking in indexes: https://download.pytorch.org/whl/cu124\n",
      "Requirement already satisfied: torch in c:\\users\\fklas\\appdata\\local\\programs\\python\\python311\\lib\\site-packages (2.4.0+cu124)\n",
      "Requirement already satisfied: torchvision in c:\\users\\fklas\\appdata\\local\\programs\\python\\python311\\lib\\site-packages (0.19.0+cu124)\n",
      "Requirement already satisfied: torchaudio in c:\\users\\fklas\\appdata\\local\\programs\\python\\python311\\lib\\site-packages (2.4.0+cu124)\n",
      "Requirement already satisfied: filelock in c:\\users\\fklas\\appdata\\local\\programs\\python\\python311\\lib\\site-packages (from torch) (3.12.0)\n",
      "Requirement already satisfied: typing-extensions>=4.8.0 in c:\\users\\fklas\\appdata\\local\\programs\\python\\python311\\lib\\site-packages (from torch) (4.12.2)\n",
      "Requirement already satisfied: sympy in c:\\users\\fklas\\appdata\\local\\programs\\python\\python311\\lib\\site-packages (from torch) (1.12)\n",
      "Requirement already satisfied: networkx in c:\\users\\fklas\\appdata\\local\\programs\\python\\python311\\lib\\site-packages (from torch) (3.1)\n",
      "Requirement already satisfied: jinja2 in c:\\users\\fklas\\appdata\\local\\programs\\python\\python311\\lib\\site-packages (from torch) (3.1.2)\n",
      "Requirement already satisfied: fsspec in c:\\users\\fklas\\appdata\\local\\programs\\python\\python311\\lib\\site-packages (from torch) (2024.5.0)\n",
      "Requirement already satisfied: numpy in c:\\users\\fklas\\appdata\\local\\programs\\python\\python311\\lib\\site-packages (from torchvision) (1.24.3)\n",
      "Requirement already satisfied: pillow!=8.3.*,>=5.3.0 in c:\\users\\fklas\\appdata\\local\\programs\\python\\python311\\lib\\site-packages (from torchvision) (9.5.0)\n",
      "Requirement already satisfied: MarkupSafe>=2.0 in c:\\users\\fklas\\appdata\\local\\programs\\python\\python311\\lib\\site-packages (from jinja2->torch) (2.1.2)\n",
      "Requirement already satisfied: mpmath>=0.19 in c:\\users\\fklas\\appdata\\local\\programs\\python\\python311\\lib\\site-packages (from sympy->torch) (1.3.0)\n"
     ]
    }
   ],
   "source": [
    "#| hide\n",
    "!pip3 install torch torchvision torchaudio --index-url https://download.pytorch.org/whl/cu124"
   ]
  },
  {
   "cell_type": "code",
   "execution_count": 7,
   "metadata": {},
   "outputs": [
    {
     "data": {
      "text/plain": [
       "False"
      ]
     },
     "execution_count": 7,
     "metadata": {},
     "output_type": "execute_result"
    }
   ],
   "source": [
    "#| hide\n",
    "import torch\n",
    "torch.cuda.is_available()"
   ]
  },
  {
   "cell_type": "markdown",
   "metadata": {},
   "source": [
    "1. First of all, we want to load the dataset we defined. Here, our dataset is already preprocessed but, usually, this is where you would reformat the prompt, filter out bad text, combine multiple datasets, etc.\n",
    "\n",
    "\n",
    "2. Then, we’re configuring bitsandbytes for 4-bit quantization.\n",
    "\n",
    "\n",
    "3. Next, we're loading the Llama 2 model in 4-bit precision on a GPU with the corresponding tokenizer.\n",
    "\n",
    "\n",
    "4. Finally, we're loading configurations for QLoRA, regular training parameters, and passing everything to the SFTTrainer. The training can finally start!"
   ]
  },
  {
   "cell_type": "code",
   "execution_count": 8,
   "metadata": {},
   "outputs": [
    {
     "ename": "NameError",
     "evalue": "name 'load_dataset' is not defined",
     "output_type": "error",
     "traceback": [
      "\u001b[1;31m---------------------------------------------------------------------------\u001b[0m",
      "\u001b[1;31mNameError\u001b[0m                                 Traceback (most recent call last)",
      "Input \u001b[1;32mIn [8]\u001b[0m, in \u001b[0;36m<cell line: 2>\u001b[1;34m()\u001b[0m\n\u001b[0;32m      1\u001b[0m \u001b[38;5;66;03m# Load dataset (you can process it here)\u001b[39;00m\n\u001b[1;32m----> 2\u001b[0m dataset \u001b[38;5;241m=\u001b[39m \u001b[43mload_dataset\u001b[49m(dataset_name, split\u001b[38;5;241m=\u001b[39m\u001b[38;5;124m\"\u001b[39m\u001b[38;5;124mtrain\u001b[39m\u001b[38;5;124m\"\u001b[39m)\n\u001b[0;32m      4\u001b[0m \u001b[38;5;66;03m# Load tokenizer and model with QLoRA configuration\u001b[39;00m\n\u001b[0;32m      5\u001b[0m compute_dtype \u001b[38;5;241m=\u001b[39m \u001b[38;5;28mgetattr\u001b[39m(torch, bnb_4bit_compute_dtype)\n",
      "\u001b[1;31mNameError\u001b[0m: name 'load_dataset' is not defined"
     ]
    }
   ],
   "source": [
    "# Load dataset (you can process it here)\n",
    "dataset = load_dataset(dataset_name, split=\"train\")\n",
    "\n",
    "# Load tokenizer and model with QLoRA configuration\n",
    "compute_dtype = getattr(torch, bnb_4bit_compute_dtype)\n",
    "\n",
    "bnb_config = BitsAndBytesConfig(\n",
    "    load_in_4bit=use_4bit,\n",
    "    bnb_4bit_quant_type=bnb_4bit_quant_type,\n",
    "    bnb_4bit_compute_dtype=compute_dtype,\n",
    "    bnb_4bit_use_double_quant=use_nested_quant,\n",
    ")\n",
    "\n",
    "# Check GPU compatibility with bfloat16\n",
    "if compute_dtype == torch.float16 and use_4bit:\n",
    "    major, _ = torch.cuda.get_device_capability()\n",
    "    if major >= 8:\n",
    "        print(\"=\" * 80)\n",
    "        print(\"Your GPU supports bfloat16: accelerate training with bf16=True\")\n",
    "        print(\"=\" * 80)\n",
    "\n",
    "# Load base model\n",
    "model = AutoModelForCausalLM.from_pretrained(\n",
    "    model_name,\n",
    "    quantization_config=bnb_config,\n",
    "    device_map=device_map\n",
    ")\n",
    "model.config.use_cache = False\n",
    "model.config.pretraining_tp = 1\n",
    "\n",
    "# Load LLaMA tokenizer\n",
    "tokenizer = AutoTokenizer.from_pretrained(model_name, trust_remote_code=True)\n",
    "tokenizer.pad_token = tokenizer.eos_token\n",
    "tokenizer.padding_side = \"right\" # Fix weird overflow issue with fp16 training\n",
    "\n",
    "# Load LoRA configuration\n",
    "peft_config = LoraConfig(\n",
    "    lora_alpha=lora_alpha,\n",
    "    lora_dropout=lora_dropout,\n",
    "    r=lora_r,\n",
    "    bias=\"none\",\n",
    "    task_type=\"CAUSAL_LM\",\n",
    ")\n",
    "\n",
    "# Set training parameters\n",
    "training_arguments = TrainingArguments(\n",
    "    output_dir=output_dir,\n",
    "    num_train_epochs=num_train_epochs,\n",
    "    per_device_train_batch_size=per_device_train_batch_size,\n",
    "    gradient_accumulation_steps=gradient_accumulation_steps,\n",
    "    optim=optim,\n",
    "    save_steps=save_steps,\n",
    "    logging_steps=logging_steps,\n",
    "    learning_rate=learning_rate,\n",
    "    weight_decay=weight_decay,\n",
    "    fp16=fp16,\n",
    "    bf16=bf16,\n",
    "    max_grad_norm=max_grad_norm,\n",
    "    max_steps=max_steps,\n",
    "    warmup_ratio=warmup_ratio,\n",
    "    group_by_length=group_by_length,\n",
    "    lr_scheduler_type=lr_scheduler_type,\n",
    "    report_to=\"tensorboard\"\n",
    ")\n",
    "\n",
    "# Set supervised fine-tuning parameters\n",
    "trainer = SFTTrainer(\n",
    "    model=model,\n",
    "    train_dataset=dataset,\n",
    "    peft_config=peft_config,\n",
    "    dataset_text_field=\"text\",\n",
    "    max_seq_length=max_seq_length,\n",
    "    tokenizer=tokenizer,\n",
    "    args=training_arguments,\n",
    "    packing=packing,\n",
    ")\n",
    "\n",
    "# Train model\n",
    "trainer.train()"
   ]
  },
  {
   "cell_type": "code",
   "execution_count": null,
   "metadata": {},
   "outputs": [],
   "source": [
    "# Save trained model\n",
    "trainer.model.save_pretrained(new_model)"
   ]
  },
  {
   "cell_type": "markdown",
   "metadata": {
    "tags": []
   },
   "source": [
    "### Step 5: Check the plots on tensorboard, as follows"
   ]
  },
  {
   "cell_type": "code",
   "execution_count": null,
   "metadata": {},
   "outputs": [],
   "source": [
    "%load_ext tensorboard\n",
    "%tensorboard --logdir results/runs"
   ]
  },
  {
   "cell_type": "markdown",
   "metadata": {
    "tags": []
   },
   "source": [
    "### Step 6: Use the text generation pipeline to ask questions like \"What is a large language model?\"\n",
    "> Note that I'm formatting the input to match Llama 2 prompt template."
   ]
  },
  {
   "cell_type": "code",
   "execution_count": null,
   "metadata": {},
   "outputs": [],
   "source": [
    "# Ignore warnings\n",
    "logging.set_verbosity(logging.CRITICAL)\n",
    "\n",
    "# Run text generation pipeline with our next model\n",
    "prompt = \"What is a large language model?\"\n",
    "pipe = pipeline(task=\"text-generation\", model=model, tokenizer=tokenizer, max_length=200)\n",
    "result = pipe(f\"<s>[INST] {prompt} [/INST]\")\n",
    "print(result[0]['generated_text'])"
   ]
  },
  {
   "cell_type": "code",
   "execution_count": null,
   "metadata": {},
   "outputs": [],
   "source": [
    "# Empty VRAM\n",
    "del model\n",
    "del pipe\n",
    "del trainer\n",
    "import gc\n",
    "gc.collect()\n",
    "gc.collect()"
   ]
  },
  {
   "cell_type": "markdown",
   "metadata": {},
   "source": [
    "You can train a Llama 2 model on the entire dataset using mlabonne/guanaco-llama2"
   ]
  },
  {
   "cell_type": "markdown",
   "metadata": {
    "tags": []
   },
   "source": [
    "### Step 7: Store New Llama2 Model (Llama-2-7b-chat-finetune)"
   ]
  },
  {
   "cell_type": "markdown",
   "metadata": {},
   "source": [
    "How can we store our new Llama-2-7b-chat-finetune model now? We need to merge the weights from LoRA with the base model. Unfortunately, as far as I know, there is no straightforward way to do it: we need to reload the base model in FP16 precision and use the peft library to merge everything."
   ]
  },
  {
   "cell_type": "code",
   "execution_count": null,
   "metadata": {},
   "outputs": [],
   "source": [
    "# Reload model in FP16 and merge it with LoRA weights\n",
    "base_model = AutoModelForCausalLM.from_pretrained(\n",
    "    model_name,\n",
    "    low_cpu_mem_usage=True,\n",
    "    return_dict=True,\n",
    "    torch_dtype=torch.float16,\n",
    "    device_map=device_map,\n",
    ")\n",
    "model = PeftModel.from_pretrained(base_model, new_model)\n",
    "model = model.merge_and_unload()\n",
    "\n",
    "# Reload tokenizer to save it\n",
    "tokenizer = AutoTokenizer.from_pretrained(model_name, trust_remote_code=True)\n",
    "tokenizer.pad_token = tokenizer.eos_token\n",
    "tokenizer.padding_side = \"right\""
   ]
  },
  {
   "cell_type": "markdown",
   "metadata": {
    "tags": []
   },
   "source": [
    "### Step 8: Pushing Model to Hugging Face Hub"
   ]
  },
  {
   "cell_type": "markdown",
   "metadata": {},
   "source": [
    "Our weights are merged and we reloaded the tokenizer. We can now push everything to the Hugging Face Hub to save our model."
   ]
  },
  {
   "cell_type": "code",
   "execution_count": null,
   "metadata": {},
   "outputs": [],
   "source": [
    "import locale\n",
    "locale.getpreferredencoding = lambda: \"UTF-8\""
   ]
  },
  {
   "cell_type": "code",
   "execution_count": null,
   "metadata": {},
   "outputs": [],
   "source": [
    "!huggingface-cli login\n",
    "\n",
    "model.push_to_hub(\"entbappy/Llama-2-7b-chat-finetune\", check_pr=True)\n",
    "\n",
    "tokenizer.push_to_hub(\"entbappy/Llama-2-7b-chat-finetune\",check_pr=True)\n"
   ]
  },
  {
   "cell_type": "markdown",
   "metadata": {},
   "source": [
    "You can now use this model for inference by loading it like any other Llama 2 model from the Hub."
   ]
  },
  {
   "cell_type": "code",
   "execution_count": null,
   "metadata": {},
   "outputs": [],
   "source": []
  }
 ],
 "metadata": {
  "kernelspec": {
   "display_name": "Python 3 (ipykernel)",
   "language": "python",
   "name": "python3"
  },
  "language_info": {
   "codemirror_mode": {
    "name": "ipython",
    "version": 3
   },
   "file_extension": ".py",
   "mimetype": "text/x-python",
   "name": "python",
   "nbconvert_exporter": "python",
   "pygments_lexer": "ipython3",
   "version": "3.9.12"
  }
 },
 "nbformat": 4,
 "nbformat_minor": 4
}
